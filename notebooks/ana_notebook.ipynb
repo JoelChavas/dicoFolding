{
 "cells": [
  {
   "cell_type": "markdown",
   "id": "54aa324c",
   "metadata": {},
   "source": [
    "# Anatomist notebook extension demo\n",
    "\n",
    "This notebook demonstrates the notebook variant of Anatomist. It runs inside `Jupyter notebook`. Paths in the demo assume that the notebook is run inside a [casa-distro container](https://github.com/brainvisa/casa-distro), and a recent build in python3 (jupyter extensions have been added only in python3 in this container)."
   ]
  },
  {
   "cell_type": "code",
   "execution_count": 1,
   "id": "4c22fbff",
   "metadata": {},
   "outputs": [
    {
     "name": "stdout",
     "output_type": "stream",
     "text": [
      "Doc is available at the following address:\n",
      "file:///home/jc225751/casa_distro/brainvisa-opensource-master/build/share/doc/pyanatomist-5.1/sphinx/pyanatomist_notebook.html\n",
      "You can copy it and paste it in your web browser.\n"
     ]
    }
   ],
   "source": [
    "import os\n",
    "casa = os.environ['CASA_HOST_DIR']\n",
    "doc = os.path.join(casa, 'build/share/doc/pyanatomist-5.1/sphinx/pyanatomist_notebook.html')\n",
    "print('Doc is available at the following address:')\n",
    "print('file://' + doc)\n",
    "print('You can copy it and paste it in your web browser.')"
   ]
  },
  {
   "cell_type": "markdown",
   "id": "15cb7ca5",
   "metadata": {},
   "source": [
    "First download and install a small dataset, if needed:"
   ]
  },
  {
   "cell_type": "code",
   "execution_count": 2,
   "id": "6b8dc167",
   "metadata": {},
   "outputs": [
    {
     "name": "stdout",
     "output_type": "stream",
     "text": [
      "the data directory already exists. Assuming it is OK.\n",
      "using data in: /casa/host/build/share/morpho_demo\n"
     ]
    }
   ],
   "source": [
    "dl_url = 'ftp://ftp.cea.fr/pub/dsv/anatomist/data/morpho_demo.tar.bz2'\n",
    "from soma import aims\n",
    "install_dir = os.path.join(aims.carto.Paths.globalShared(), 'morpho_demo')\n",
    "temp_dirs = []\n",
    "if os.path.exists(install_dir):\n",
    "    print('the data directory already exists. Assuming it is OK.')\n",
    "else:\n",
    "    try:\n",
    "        os.makedirs(install_dir)\n",
    "    except:\n",
    "        # maybe we don't have write permission in the directory\n",
    "        # try again in a temp directory\n",
    "        install_dir = tempfile.mkdtemp(prefix='ana_notebook_demo')\n",
    "        temp_dirs.append(install_dir)\n",
    "        \n",
    "    # download demo data\n",
    "    from six.moves.urllib.request import urlopen\n",
    "    import tempfile\n",
    "    import tarfile\n",
    "    \n",
    "    tmp_dl = tempfile.mkstemp(suffix='.tar.bz2')\n",
    "    os.close(tmp_dl[0])\n",
    "    with urlopen(dl_url) as f:\n",
    "        with open(tmp_dl[1], 'wb') as g:\n",
    "            g.write(f.read())\n",
    "    # extract the archive\n",
    "    with tarfile.open(tmp_dl[1], 'r') as tf:\n",
    "        tf.extractall(install_dir)\n",
    "print('using data in:', install_dir)\n",
    "os.chdir(install_dir)"
   ]
  },
  {
   "cell_type": "markdown",
   "id": "9b3778b8",
   "metadata": {},
   "source": [
    "The API is exactly the same as the \"regular\" Anatomist:"
   ]
  },
  {
   "cell_type": "code",
   "execution_count": 3,
   "id": "25912b7a",
   "metadata": {},
   "outputs": [
    {
     "name": "stdout",
     "output_type": "stream",
     "text": [
      "global modules: /casa/host/build/share/anatomist-5.1/python_plugins\n",
      "home   modules: /casa/home/.anatomist/python_plugins\n",
      "loading module meshsplit\n",
      "loading module palettecontrols\n",
      "loading module volumepalettes\n",
      "loading module save_resampled\n",
      "loading module profilewindow\n",
      "loading module anacontrolmenu\n",
      "loading module foldsplit\n",
      "loading module simple_controls\n",
      "Anatomist started.\n",
      "loading module histogram\n",
      "loading module ana_image_math\n",
      "loading module modelGraphs\n",
      "loading module paletteViewer\n",
      "loading module bsa_proba\n",
      "loading module gradientpalette\n",
      "loading module selection\n",
      "all python modules loaded\n",
      "Anatomist started.\n"
     ]
    }
   ],
   "source": [
    "import anatomist.notebook as ana\n",
    "a = ana.Anatomist()"
   ]
  },
  {
   "cell_type": "code",
   "execution_count": 4,
   "id": "d0080f60",
   "metadata": {},
   "outputs": [
    {
     "data": {
      "application/vnd.jupyter.widget-view+json": {
       "model_id": "76763f7a6278467095df8e3bed93b7f1",
       "version_major": 2,
       "version_minor": 0
      },
      "text/plain": [
       "AnatomistInteractiveWidget(height=479, layout=Layout(height='auto', width='auto'), width=424)"
      ]
     },
     "metadata": {},
     "output_type": "display_data"
    },
    {
     "data": {
      "application/vnd.jupyter.widget-view+json": {
       "model_id": "00266070e7a04d65b09bf102986cd562",
       "version_major": 2,
       "version_minor": 0
      },
      "text/plain": [
       "AnatomistInteractiveWidget(height=308, layout=Layout(height='auto', width='auto'), width=424)"
      ]
     },
     "metadata": {},
     "output_type": "display_data"
    }
   ],
   "source": [
    "mri = a.loadObject('demo/morphee/t1mri/default_acquisition/morphee.nii.gz')\n",
    "seg = a.loadObject('demo/morphee/t1mri/default_acquisition/default_analysis/segmentation/Lgrey_white_morphee.nii.gz')\n",
    "w1 = a.createWindow('Axial')\n",
    "w2 = a.createWindow('Coronal')\n",
    "mri.addInWindows([w1, w2])\n",
    "seg.setPalette('Blue-Red-fusion')\n",
    "w2.addObjects(seg)\n",
    "w1.moveLinkedCursor([70., 120., 75.])"
   ]
  },
  {
   "cell_type": "markdown",
   "id": "26e4488c",
   "metadata": {},
   "source": [
    "As you will note, views here are interactive and are displaying standard Anatomist views. 3D hardware is used when possible as in the headless variant of Anatomist. Displaying is a blit slower (thus less smooth) however because rendering is performed on server side, then compressed in JPEG, and transfered to the web browser.\n",
    "\n",
    "\"expensive\" renderings such as Volume Rendering can be done without more overhead:"
   ]
  },
  {
   "cell_type": "code",
   "execution_count": 5,
   "id": "92eaea83",
   "metadata": {},
   "outputs": [
    {
     "data": {
      "application/vnd.jupyter.widget-view+json": {
       "model_id": "b43a56a276f04f04a1ab6a86c513cac4",
       "version_major": 2,
       "version_minor": 0
      },
      "text/plain": [
       "AnatomistInteractiveWidget(height=479, layout=Layout(height='auto', width='auto'), width=424)"
      ]
     },
     "metadata": {},
     "output_type": "display_data"
    }
   ],
   "source": [
    "fus2 = a.fusionObjects([mri, seg], method='Fusion2DMethod')\n",
    "a.execute('TexturingParams', objects=[fus2], texture_index=1, mode='linear_A_if_B_white')\n",
    "vol_render = a.fusionObjects([fus2], method='VolumeRenderingFusionMethod')\n",
    "vol_render.setPalette(minVal=0.25, maxVal=1.3)\n",
    "cut_vr = a.fusionObjects([vol_render], method='FusionClipMethod')\n",
    "w3 = a.createWindow('3D')\n",
    "w3.addObjects(cut_vr)\n",
    "w3.setControl('CutControl')"
   ]
  },
  {
   "cell_type": "markdown",
   "id": "1344e994",
   "metadata": {},
   "source": [
    "The view above is also interactive (use middle button to rotate, shift+middle to orient the cut plane, ctrl+middle to shift it)"
   ]
  },
  {
   "cell_type": "markdown",
   "id": "37eb467f",
   "metadata": {},
   "source": [
    "Other kind of windows can be displayed also, but are not refreshed as often as needed. Only user input triggers updates (but moving the mouse focus in/out is enough):"
   ]
  },
  {
   "cell_type": "code",
   "execution_count": 6,
   "id": "a3def12c",
   "metadata": {},
   "outputs": [
    {
     "data": {
      "application/vnd.jupyter.widget-view+json": {
       "model_id": "b8e070e396d740b89db0cf74ae94d932",
       "version_major": 2,
       "version_minor": 0
      },
      "text/plain": [
       "AnatomistInteractiveWidget(height=400, layout=Layout(height='auto', width='auto'), width=400)"
      ]
     },
     "metadata": {},
     "output_type": "display_data"
    },
    {
     "data": {
      "application/vnd.jupyter.widget-view+json": {
       "model_id": "044ec9b379dc4180a4b709210b094752",
       "version_major": 2,
       "version_minor": 0
      },
      "text/plain": [
       "AnatomistInteractiveWidget(height=520, layout=Layout(height='auto', width='auto'), width=640)"
      ]
     },
     "metadata": {},
     "output_type": "display_data"
    },
    {
     "name": "stderr",
     "output_type": "stream",
     "text": [
      "No handles with labels found to put in legend.\n"
     ]
    }
   ],
   "source": [
    "browser = a.createWindow('Browser')\n",
    "hist = a.createWindow('Matplotlib-histogram')\n",
    "mri.addInWindows([browser, hist])"
   ]
  },
  {
   "cell_type": "markdown",
   "id": "59728c32",
   "metadata": {},
   "source": [
    "Of course, meshes can also be displayed (as well as all objects supported by Anatomist):"
   ]
  },
  {
   "cell_type": "code",
   "execution_count": 7,
   "id": "efe6512e",
   "metadata": {},
   "outputs": [
    {
     "data": {
      "application/vnd.jupyter.widget-view+json": {
       "model_id": "f16472c58585461f91ae4e3a947afa11",
       "version_major": 2,
       "version_minor": 0
      },
      "text/plain": [
       "AnatomistInteractiveWidget(height=479, layout=Layout(height='auto', width='auto'), width=424)"
      ]
     },
     "metadata": {},
     "output_type": "display_data"
    },
    {
     "name": "stderr",
     "output_type": "stream",
     "text": [
      "No handles with labels found to put in legend.\n"
     ]
    }
   ],
   "source": [
    "mesh_l = a.loadObject('demo/morphee/t1mri/default_acquisition/default_analysis/segmentation/mesh/morphee_Lhemi.gii')\n",
    "mesh_r = a.loadObject('demo/morphee/t1mri/default_acquisition/default_analysis/segmentation/mesh/morphee_Rwhite.gii')\n",
    "nomenclature = a.loadObject(aims.carto.Paths.findResourceFile('nomenclature/hierarchy/sulcal_root_colors.hie'))\n",
    "sulci_r = a.loadObject('demo/morphee/t1mri/default_acquisition/default_analysis/folds/3.1/default_session_auto/Rmorphee_default_session_auto.arg')\n",
    "mesh_r.setMaterial(diffuse=[0.7, 1., 0.7, 1.])\n",
    "mesh_cut = a.fusionObjects([mesh_l, mri], method='FusionCutMeshMethod')\n",
    "w4 = a.createWindow('3D')\n",
    "w4.addObjects([mesh_cut, mesh_r, sulci_r])"
   ]
  },
  {
   "cell_type": "markdown",
   "id": "58a29627",
   "metadata": {},
   "source": [
    "It is also possible to embed 3D views only (without sliders and buttons):"
   ]
  },
  {
   "cell_type": "code",
   "execution_count": 8,
   "id": "d8819a89",
   "metadata": {},
   "outputs": [
    {
     "data": {
      "application/vnd.jupyter.widget-view+json": {
       "model_id": "cba9ae04052b4625b021217317946ab5",
       "version_major": 2,
       "version_minor": 0
      },
      "text/plain": [
       "AnatomistInteractiveWidget(height=384, layout=Layout(height='auto', width='auto'), width=384)"
      ]
     },
     "metadata": {},
     "output_type": "display_data"
    },
    {
     "name": "stderr",
     "output_type": "stream",
     "text": [
      "No handles with labels found to put in legend.\n"
     ]
    }
   ],
   "source": [
    "view = a.createWindow('3D', only_3d=True)\n",
    "view.addObjects([mesh_cut, mri])\n",
    "view.camera(view_quaternion=[0.445286393165588,  0.11355659365654, 0.125850886106491, 0.879196524620056])"
   ]
  },
  {
   "cell_type": "markdown",
   "id": "d1076801",
   "metadata": {},
   "source": [
    "or with sliders but without buttons (as in the regular anatomist):"
   ]
  },
  {
   "cell_type": "code",
   "execution_count": 9,
   "id": "031171fc",
   "metadata": {},
   "outputs": [
    {
     "data": {
      "application/vnd.jupyter.widget-view+json": {
       "model_id": "bdecdad44bf24009a1815aa764b437aa",
       "version_major": 2,
       "version_minor": 0
      },
      "text/plain": [
       "AnatomistInteractiveWidget(height=388, layout=Layout(height='auto', width='auto'), width=388)"
      ]
     },
     "metadata": {},
     "output_type": "display_data"
    },
    {
     "name": "stderr",
     "output_type": "stream",
     "text": [
      "No handles with labels found to put in legend.\n"
     ]
    }
   ],
   "source": [
    "w5 = a.createWindow('3D', no_decoration=True)\n",
    "w5.addObjects([mesh_cut, mri])\n",
    "w5.camera(view_quaternion=[0.445286393165588,  0.11355659365654, 0.125850886106491, 0.879196524620056])"
   ]
  },
  {
   "cell_type": "markdown",
   "id": "ac592995",
   "metadata": {},
   "source": [
    "If needed, we may cleanup the data installed temporarily..."
   ]
  },
  {
   "cell_type": "code",
   "execution_count": 10,
   "id": "184cbde9",
   "metadata": {},
   "outputs": [],
   "source": [
    "import shutil\n",
    "for d in temp_dirs:\n",
    "    shutil.rmtree(d)"
   ]
  },
  {
   "cell_type": "code",
   "execution_count": null,
   "id": "831efb99",
   "metadata": {},
   "outputs": [],
   "source": []
  }
 ],
 "metadata": {
  "kernelspec": {
   "display_name": "Python 3",
   "language": "python",
   "name": "python3"
  },
  "language_info": {
   "codemirror_mode": {
    "name": "ipython",
    "version": 3
   },
   "file_extension": ".py",
   "mimetype": "text/x-python",
   "name": "python",
   "nbconvert_exporter": "python",
   "pygments_lexer": "ipython3",
   "version": "3.6.9"
  }
 },
 "nbformat": 4,
 "nbformat_minor": 5
}
