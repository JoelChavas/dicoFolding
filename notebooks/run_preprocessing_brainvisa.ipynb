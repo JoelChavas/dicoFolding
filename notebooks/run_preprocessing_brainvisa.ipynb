{
 "cells": [
  {
   "cell_type": "markdown",
   "metadata": {},
   "source": [
    "# Runs brainvisa preprocessing"
   ]
  },
  {
   "cell_type": "markdown",
   "metadata": {},
   "source": [
    "This notebook creates the whole brainvisa preprocessing pipeline to feed to deep learning algorithms.\n",
    "Note that you need brainvisa installed or to run the server using the brainvisa singularity."
   ]
  },
  {
   "cell_type": "markdown",
   "metadata": {},
   "source": [
    "# Imports"
   ]
  },
  {
   "cell_type": "markdown",
   "metadata": {},
   "source": [
    "General imports"
   ]
  },
  {
   "cell_type": "code",
   "execution_count": 1,
   "metadata": {},
   "outputs": [],
   "source": [
    "import sys\n",
    "import os\n",
    "from os.path import join\n",
    "import glob\n",
    "import json"
   ]
  },
  {
   "cell_type": "markdown",
   "metadata": {},
   "source": [
    "Deep_folding imports"
   ]
  },
  {
   "cell_type": "code",
   "execution_count": 2,
   "metadata": {},
   "outputs": [
    {
     "ename": "ModuleNotFoundError",
     "evalue": "No module named 'deep_folding'",
     "output_type": "error",
     "traceback": [
      "\u001b[0;31m---------------------------------------------------------------------------\u001b[0m",
      "\u001b[0;31mModuleNotFoundError\u001b[0m                       Traceback (most recent call last)",
      "\u001b[0;32m<ipython-input-2-94382b82199c>\u001b[0m in \u001b[0;36m<module>\u001b[0;34m()\u001b[0m\n\u001b[0;32m----> 1\u001b[0;31m \u001b[0;32mfrom\u001b[0m \u001b[0mdeep_folding\u001b[0m\u001b[0;34m.\u001b[0m\u001b[0manatomist_tools\u001b[0m \u001b[0;32mimport\u001b[0m \u001b[0mtransform\u001b[0m\u001b[0;34m\u001b[0m\u001b[0;34m\u001b[0m\u001b[0m\n\u001b[0m\u001b[1;32m      2\u001b[0m \u001b[0;32mfrom\u001b[0m \u001b[0mdeep_folding\u001b[0m\u001b[0;34m.\u001b[0m\u001b[0manatomist_tools\u001b[0m \u001b[0;32mimport\u001b[0m \u001b[0mbounding_box\u001b[0m\u001b[0;34m\u001b[0m\u001b[0;34m\u001b[0m\u001b[0m\n\u001b[1;32m      3\u001b[0m \u001b[0;32mfrom\u001b[0m \u001b[0mdeep_folding\u001b[0m\u001b[0;34m.\u001b[0m\u001b[0manatomist_tools\u001b[0m \u001b[0;32mimport\u001b[0m \u001b[0mdataset_gen_pipe\u001b[0m\u001b[0;34m\u001b[0m\u001b[0;34m\u001b[0m\u001b[0m\n\u001b[1;32m      4\u001b[0m \u001b[0mprint\u001b[0m\u001b[0;34m(\u001b[0m\u001b[0;34m(\u001b[0m\u001b[0mos\u001b[0m\u001b[0;34m.\u001b[0m\u001b[0mpath\u001b[0m\u001b[0;34m.\u001b[0m\u001b[0mdirname\u001b[0m\u001b[0;34m(\u001b[0m\u001b[0mtransform\u001b[0m\u001b[0;34m.\u001b[0m\u001b[0m__file__\u001b[0m\u001b[0;34m)\u001b[0m\u001b[0;34m)\u001b[0m\u001b[0;34m)\u001b[0m\u001b[0;34m\u001b[0m\u001b[0;34m\u001b[0m\u001b[0m\n\u001b[1;32m      5\u001b[0m \u001b[0mprint\u001b[0m\u001b[0;34m(\u001b[0m\u001b[0;34m(\u001b[0m\u001b[0mos\u001b[0m\u001b[0;34m.\u001b[0m\u001b[0mpath\u001b[0m\u001b[0;34m.\u001b[0m\u001b[0mdirname\u001b[0m\u001b[0;34m(\u001b[0m\u001b[0mbounding_box\u001b[0m\u001b[0;34m.\u001b[0m\u001b[0m__file__\u001b[0m\u001b[0;34m)\u001b[0m\u001b[0;34m)\u001b[0m\u001b[0;34m)\u001b[0m\u001b[0;34m\u001b[0m\u001b[0;34m\u001b[0m\u001b[0m\n",
      "\u001b[0;31mModuleNotFoundError\u001b[0m: No module named 'deep_folding'"
     ]
    }
   ],
   "source": [
    "from deep_folding.anatomist_tools import transform\n",
    "from deep_folding.anatomist_tools import bounding_box\n",
    "from deep_folding.anatomist_tools import dataset_gen_pipe\n",
    "print((os.path.dirname(transform.__file__)))\n",
    "print((os.path.dirname(bounding_box.__file__)))\n",
    "print((os.path.dirname(dataset_gen_pipe.__file__)))"
   ]
  },
  {
   "cell_type": "markdown",
   "metadata": {},
   "source": [
    "Constants"
   ]
  },
  {
   "cell_type": "code",
   "execution_count": null,
   "metadata": {},
   "outputs": [],
   "source": [
    "_ALL_SUBJECTS = -1"
   ]
  },
  {
   "cell_type": "markdown",
   "metadata": {},
   "source": [
    "# Creates useful functions"
   ]
  },
  {
   "cell_type": "code",
   "execution_count": null,
   "metadata": {},
   "outputs": [],
   "source": [
    "def check_directory(directory_path):\n",
    "    \"\"\"Checks directory path and returns absolute path\"\"\"\n",
    "    directory_path = os.path.abspath(directory_path)\n",
    "    if os.path.isdir(directory_path):\n",
    "        print((directory_path + ' is a directory'))\n",
    "    else:\n",
    "        print((directory_path + ' does not exist or is not a directory.'))\n",
    "    return directory_path"
   ]
  },
  {
   "cell_type": "markdown",
   "metadata": {},
   "source": [
    "# Variables used by all sub-computations"
   ]
  },
  {
   "cell_type": "markdown",
   "metadata": {},
   "source": [
    "The following boolean variables decide which pprocessing to run:"
   ]
  },
  {
   "cell_type": "code",
   "execution_count": null,
   "metadata": {},
   "outputs": [],
   "source": [
    "run_transform = False  # If set to True, it generates new transform files\n",
    "run_bbox = False  # If set to True, it generates new bounding boxes\n",
    "run_crop = False  # If set to True, it generates crops"
   ]
  },
  {
   "cell_type": "markdown",
   "metadata": {},
   "source": [
    "We now assign path names and other user-specific variables."
   ]
  },
  {
   "cell_type": "code",
   "execution_count": null,
   "metadata": {},
   "outputs": [],
   "source": [
    "path_to_root = '/neurospin'  # Could be either /neuropsin, or /nfs/neurospin, for example"
   ]
  },
  {
   "cell_type": "markdown",
   "metadata": {},
   "source": [
    "The unsupervised source directory is where the unsupervised database lies. It contains the morphologist analysis subfolder ANALYSIS/3T_morphologist\n"
   ]
  },
  {
   "cell_type": "code",
   "execution_count": null,
   "metadata": {},
   "outputs": [],
   "source": [
    "unsupervised_src_dir = check_directory(join(path_to_root, 'hcp'))"
   ]
  },
  {
   "cell_type": "markdown",
   "metadata": {},
   "source": [
    "The supervised source directories are where lies the database that has been manually labelled. It is a list of full pathes towards the manually labelled datasets."
   ]
  },
  {
   "cell_type": "code",
   "execution_count": null,
   "metadata": {},
   "outputs": [],
   "source": [
    "human_supervised_dir = join(path_to_root, 'dico/data/bv_databases/human')\n",
    "supervised_src_dir = [check_directory(join(human_supervised_dir, 'pclean/all'))\n",
    "                     ]\n",
    "path_to_graph = [\"t1mri/t1/default_analysis/folds/3.3/base2018_manual\"\n",
    "                 ]"
   ]
  },
  {
   "cell_type": "markdown",
   "metadata": {},
   "source": [
    "# Generates transform files"
   ]
  },
  {
   "cell_type": "markdown",
   "metadata": {},
   "source": [
    "### User variables"
   ]
  },
  {
   "cell_type": "markdown",
   "metadata": {},
   "source": [
    "The transform directory is where the transform files will be saved. It will be created afterwards if it does not exist"
   ]
  },
  {
   "cell_type": "code",
   "execution_count": null,
   "metadata": {},
   "outputs": [],
   "source": [
    "transform_dir = check_directory(join(path_to_root, 'dico/deep_folding_data/data', 'transform'))"
   ]
  },
  {
   "cell_type": "markdown",
   "metadata": {},
   "source": [
    "### Generates transform files (actual program)"
   ]
  },
  {
   "cell_type": "code",
   "execution_count": null,
   "metadata": {},
   "outputs": [],
   "source": [
    "args = \"--help\"\n",
    "argv = args.split(' ')\n",
    "transform.main(argv)"
   ]
  },
  {
   "cell_type": "code",
   "execution_count": null,
   "metadata": {},
   "outputs": [],
   "source": [
    "if run_transform:\n",
    "    transform.transform_to_spm(src_dir=unsupervised_src_dir, tgt_dir=transform_dir, number_subjects=_ALL_SUBJECTS)"
   ]
  },
  {
   "cell_type": "markdown",
   "metadata": {},
   "source": [
    "### Result analysis"
   ]
  },
  {
   "cell_type": "markdown",
   "metadata": {},
   "source": [
    "Prints the number of transform files as well as the content of the json file"
   ]
  },
  {
   "cell_type": "code",
   "execution_count": null,
   "metadata": {},
   "outputs": [],
   "source": [
    "transform_files = glob.glob(transform_dir + '/*.trm')\n",
    "print(\"Number of transform files : \", len(transform_files))"
   ]
  },
  {
   "cell_type": "code",
   "execution_count": null,
   "metadata": {},
   "outputs": [],
   "source": [
    "transform_json_file = transform_dir + \"/transform.json\"\n",
    "print(open(transform_json_file, \"r\").read())"
   ]
  },
  {
   "cell_type": "markdown",
   "metadata": {},
   "source": [
    "# Generates bounding boxes"
   ]
  },
  {
   "cell_type": "markdown",
   "metadata": {},
   "source": [
    "### User variables"
   ]
  },
  {
   "cell_type": "code",
   "execution_count": null,
   "metadata": {},
   "outputs": [],
   "source": [
    "bbox_dir = check_directory(join(path_to_root, 'dico/deep_folding_data/data', 'bbox'))"
   ]
  },
  {
   "cell_type": "markdown",
   "metadata": {},
   "source": [
    "Lists the sulci of the left side that we want to analyze:"
   ]
  },
  {
   "cell_type": "code",
   "execution_count": null,
   "metadata": {},
   "outputs": [],
   "source": [
    "sulci_left = ['S.T.s.ter.asc.ant._left', 'S.T.s.ter.asc.post._left']"
   ]
  },
  {
   "cell_type": "markdown",
   "metadata": {},
   "source": [
    "Lists the sulci of the right side that we want to analyze:"
   ]
  },
  {
   "cell_type": "code",
   "execution_count": null,
   "metadata": {},
   "outputs": [],
   "source": [
    "sulci_right = ['S.T.s.ter.asc.ant._right', 'S.T.s.ter.asc.post._right']"
   ]
  },
  {
   "cell_type": "code",
   "execution_count": null,
   "metadata": {},
   "outputs": [],
   "source": [
    "image_normalized_spm = join(unsupervised_src_dir, \n",
    "                            'ANALYSIS/3T_morphologist/100206',\n",
    "                            't1mri/default_acquisition',\n",
    "                            'normalized_SPM_100206.nii')"
   ]
  },
  {
   "cell_type": "markdown",
   "metadata": {},
   "source": [
    "### Generates bounding boxes (actual program)"
   ]
  },
  {
   "cell_type": "code",
   "execution_count": null,
   "metadata": {},
   "outputs": [],
   "source": [
    "args = \"--help\"\n",
    "argv = args.split(' ')\n",
    "bounding_box.main(argv)"
   ]
  },
  {
   "cell_type": "code",
   "execution_count": null,
   "metadata": {},
   "outputs": [],
   "source": [
    "if run_bbox:\n",
    "    for sulcus in sulci_left:\n",
    "        bounding_box.bounding_box(src_dir=supervised_src_dir, \n",
    "                                  path_to_graph=path_to_graph,\n",
    "                                  tgt_dir=bbox_dir,\n",
    "                                  sulcus=sulcus, side='L',\n",
    "                                  image_normalized_spm=image_normalized_spm,\n",
    "                                  number_subjects=_ALL_SUBJECTS)\n",
    "    for sulcus in sulci_right:\n",
    "        bounding_box.bounding_box(src_dir=supervised_src_dir, \n",
    "                                  path_to_graph=path_to_graph,\n",
    "                                  tgt_dir=bbox_dir,\n",
    "                                  sulcus=sulcus, side='R',\n",
    "                                  image_normalized_spm=image_normalized_spm,\n",
    "                                  number_subjects=_ALL_SUBJECTS)"
   ]
  },
  {
   "cell_type": "markdown",
   "metadata": {},
   "source": [
    "# Generates crops"
   ]
  },
  {
   "cell_type": "markdown",
   "metadata": {},
   "source": [
    "### User variables "
   ]
  },
  {
   "cell_type": "code",
   "execution_count": null,
   "metadata": {},
   "outputs": [],
   "source": [
    "interp = 'nearest'"
   ]
  },
  {
   "cell_type": "code",
   "execution_count": null,
   "metadata": {},
   "outputs": [],
   "source": [
    "crop_dir = check_directory(join(path_to_root, 'dico/deep_folding_data/data', 'crops/STS_branches/nearest/original'))"
   ]
  },
  {
   "cell_type": "markdown",
   "metadata": {},
   "source": [
    "### Generates crops (actual program)"
   ]
  },
  {
   "cell_type": "code",
   "execution_count": null,
   "metadata": {},
   "outputs": [],
   "source": [
    "if run_crop:\n",
    "    # Runs on left hemisphere\n",
    "    dataset_gen_pipe.dataset_gen_pipe(src_dir=unsupervised_src_dir,\n",
    "                                      tgt_dir=crop_dir,\n",
    "                                      transform_dir=transform_dir,\n",
    "                                      bbox_dir=bbox_dir,\n",
    "                                      list_sulci=sulci_left,\n",
    "                                      side='L',\n",
    "                                      interp=interp,\n",
    "                                      number_subjects=_ALL_SUBJECTS)\n",
    "    # Runs on right hemisphere\n",
    "    dataset_gen_pipe.dataset_gen_pipe(src_dir=unsupervised_src_dir,\n",
    "                                      tgt_dir=crop_dir,\n",
    "                                      transform_dir=transform_dir,\n",
    "                                      bbox_dir=bbox_dir,\n",
    "                                      list_sulci=sulci_right,\n",
    "                                      side='R',\n",
    "                                      interp=interp,\n",
    "                                      number_subjects=_ALL_SUBJECTS)\n",
    "    "
   ]
  },
  {
   "cell_type": "code",
   "execution_count": null,
   "metadata": {},
   "outputs": [],
   "source": []
  }
 ],
 "metadata": {
  "kernelspec": {
   "display_name": "Python 2",
   "language": "python",
   "name": "python2"
  },
  "language_info": {
   "codemirror_mode": {
    "name": "ipython",
    "version": 3
   },
   "file_extension": ".py",
   "mimetype": "text/x-python",
   "name": "python",
   "nbconvert_exporter": "python",
   "pygments_lexer": "ipython3",
   "version": "3.6.9"
  }
 },
 "nbformat": 4,
 "nbformat_minor": 2
}
