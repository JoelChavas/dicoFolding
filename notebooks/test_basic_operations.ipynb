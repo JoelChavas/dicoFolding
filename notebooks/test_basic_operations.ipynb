{
 "cells": [
  {
   "cell_type": "markdown",
   "id": "f23f7482",
   "metadata": {},
   "source": [
    "# Test of basic operations \n",
    "### rotate, keep simple surfaces, keep only bottom parts"
   ]
  },
  {
   "cell_type": "code",
   "execution_count": 4,
   "id": "395bc0de",
   "metadata": {},
   "outputs": [
    {
     "output_type": "stream",
     "name": "stdout",
     "text": [
      "3.6.9 (default, Jan 26 2021, 15:33:00) \n[GCC 8.4.0]\n"
     ]
    }
   ],
   "source": [
    "import sys\n",
    "import os\n",
    "import glob\n",
    "import numpy as np\n",
    "import math\n",
    "from scipy import ndimage\n",
    "from soma import aims\n",
    "import anatomist.notebook as ana\n",
    "from scipy.spatial.transform import Rotation as R\n",
    "\n",
    "print(sys.version)"
   ]
  },
  {
   "cell_type": "markdown",
   "id": "93cbe3b7",
   "metadata": {},
   "source": [
    "### Rotation with numpy / scipy"
   ]
  },
  {
   "cell_type": "code",
   "execution_count": 5,
   "id": "8cf84392",
   "metadata": {},
   "outputs": [],
   "source": [
    "# This directory contains STS branch crops\n",
    "crop_dir = '/neurospin/dico/data/deep_folding/data/crops/STS_branches/nearest/original/Lcrops'"
   ]
  },
  {
   "cell_type": "code",
   "execution_count": 6,
   "id": "df1ea9eb",
   "metadata": {},
   "outputs": [
    {
     "output_type": "stream",
     "name": "stdout",
     "text": [
      "/neurospin/dico/data/deep_folding/data/crops/STS_branches/nearest/original/Lcrops/615441_normalized.nii.gz\n"
     ]
    }
   ],
   "source": [
    "##### Takes the first nii.gz file from crop_dir\n",
    "nii_file = glob.glob(os.path.join(crop_dir, \"*.nii.gz\"))[0]\n",
    "print(nii_file)"
   ]
  },
  {
   "cell_type": "code",
   "execution_count": 7,
   "id": "f598942a",
   "metadata": {},
   "outputs": [],
   "source": [
    "cropped_skeleton = aims.read(nii_file)"
   ]
  },
  {
   "cell_type": "markdown",
   "id": "5ad9347e",
   "metadata": {},
   "source": [
    "The scope below is to visualize the file with anatomist:"
   ]
  },
  {
   "cell_type": "code",
   "execution_count": 8,
   "id": "ddc217cd",
   "metadata": {},
   "outputs": [
    {
     "output_type": "stream",
     "name": "stdout",
     "text": [
      "global modules: /casa/host/build/share/anatomist-5.1/python_plugins\n",
      "home   modules: /casa/home/.anatomist/python_plugins\n",
      "loading module meshsplit\n",
      "loading module palettecontrols\n",
      "loading module volumepalettes\n",
      "loading module save_resampled\n",
      "loading module profilewindow\n",
      "loading module anacontrolmenu\n",
      "loading module foldsplit\n",
      "loading module simple_controls\n",
      "Anatomist started.\n",
      "loading module histogram\n",
      "loading module ana_image_math\n",
      "loading module modelGraphs\n",
      "loading module paletteViewer\n",
      "loading module bsa_proba\n",
      "loading module gradientpalette\n",
      "loading module selection\n",
      "all python modules loaded\n",
      "Anatomist started.\n"
     ]
    }
   ],
   "source": [
    "a = ana.Anatomist()"
   ]
  },
  {
   "cell_type": "code",
   "execution_count": 9,
   "id": "43fb8d3b",
   "metadata": {},
   "outputs": [
    {
     "output_type": "display_data",
     "data": {
      "text/plain": "AnatomistInteractiveWidget(height=479, layout=Layout(height='auto', width='auto'), width=424)",
      "application/vnd.jupyter.widget-view+json": {
       "version_major": 2,
       "version_minor": 0,
       "model_id": "6a844d58beca4a4b8a24b2fd1c611e3e"
      }
     },
     "metadata": {}
    },
    {
     "output_type": "display_data",
     "data": {
      "text/plain": "AnatomistInteractiveWidget(height=308, layout=Layout(height='auto', width='auto'), width=424)",
      "application/vnd.jupyter.widget-view+json": {
       "version_major": 2,
       "version_minor": 0,
       "model_id": "69c127505f59445e8cd4ba900dac6587"
      }
     },
     "metadata": {}
    }
   ],
   "source": [
    "mri = a.loadObject(nii_file)\n",
    "w1 = a.createWindow('Axial')\n",
    "w2 = a.createWindow('Coronal')\n",
    "mri.addInWindows([w1, w2])\n",
    "w1.moveLinkedCursor([35., 35., 35.])"
   ]
  },
  {
   "cell_type": "markdown",
   "id": "7fe89a5d",
   "metadata": {},
   "source": [
    "We will now transform the nii.gz file into a numpy array and visualize it with Anatomist:"
   ]
  },
  {
   "cell_type": "code",
   "execution_count": 10,
   "id": "5402736a",
   "metadata": {},
   "outputs": [
    {
     "output_type": "execute_result",
     "data": {
      "text/plain": [
       "array([ 0, 11, 30, 60, 80], dtype=int16)"
      ]
     },
     "metadata": {},
     "execution_count": 10
    }
   ],
   "source": [
    "arr_skel = np.asarray(cropped_skeleton)\n",
    "np.unique(arr_skel)"
   ]
  },
  {
   "cell_type": "code",
   "execution_count": 11,
   "id": "20ca5fc8",
   "metadata": {},
   "outputs": [
    {
     "output_type": "display_data",
     "data": {
      "text/plain": "AnatomistInteractiveWidget(height=479, layout=Layout(height='auto', width='auto'), width=424)",
      "application/vnd.jupyter.widget-view+json": {
       "version_major": 2,
       "version_minor": 0,
       "model_id": "50259c945aa84d3f89631ef02995a890"
      }
     },
     "metadata": {}
    },
    {
     "output_type": "display_data",
     "data": {
      "text/plain": "AnatomistInteractiveWidget(height=479, layout=Layout(height='auto', width='auto'), width=424)",
      "application/vnd.jupyter.widget-view+json": {
       "version_major": 2,
       "version_minor": 0,
       "model_id": "e624c0790de74e1886de7580a290be19"
      }
     },
     "metadata": {}
    }
   ],
   "source": [
    "block = a.createWindowsBlock(2)\n",
    "w1 = a.createWindow('Axial', block=block)\n",
    "w2 = a.createWindow('Axial', block=block)\n",
    "img = aims.Volume(arr_skel)\n",
    "img.header()['voxel_size'] = [1, 1, 1]\n",
    "a_img = a.toAObject(img)\n",
    "a_img.releaseAppRef()\n",
    "a_img.setName(\"toto\")\n",
    "a_img.setChanged()\n",
    "a_img.notifyObservers()\n",
    "w1.addObjects(mri)\n",
    "w2.addObjects([a_img])\n",
    "w1.moveLinkedCursor([35., 35., 35.])"
   ]
  },
  {
   "cell_type": "code",
   "execution_count": 12,
   "id": "e8b5a51a",
   "metadata": {},
   "outputs": [
    {
     "output_type": "execute_result",
     "data": {
      "text/plain": [
       "(43, 63, 71, 1)"
      ]
     },
     "metadata": {},
     "execution_count": 12
    }
   ],
   "source": [
    "arr_skel.shape"
   ]
  },
  {
   "cell_type": "code",
   "execution_count": 13,
   "id": "72f6acf4",
   "metadata": {},
   "outputs": [],
   "source": [
    "arr_90 = np.rot90(arr_skel, axes=(0,1))"
   ]
  },
  {
   "cell_type": "code",
   "execution_count": 14,
   "id": "4b1c33e2",
   "metadata": {},
   "outputs": [
    {
     "output_type": "execute_result",
     "data": {
      "text/plain": [
       "(63, 43, 71, 1)"
      ]
     },
     "metadata": {},
     "execution_count": 14
    }
   ],
   "source": [
    "arr_90.shape"
   ]
  },
  {
   "cell_type": "code",
   "execution_count": 15,
   "id": "05dfe344",
   "metadata": {},
   "outputs": [
    {
     "output_type": "execute_result",
     "data": {
      "text/plain": [
       "array([ 0, 11, 30, 60, 80], dtype=int16)"
      ]
     },
     "metadata": {},
     "execution_count": 15
    }
   ],
   "source": [
    "np.unique(arr_90)"
   ]
  },
  {
   "cell_type": "code",
   "execution_count": 16,
   "id": "575efe16",
   "metadata": {},
   "outputs": [
    {
     "output_type": "display_data",
     "data": {
      "text/plain": "AnatomistInteractiveWidget(height=479, layout=Layout(height='auto', width='auto'), width=424)",
      "application/vnd.jupyter.widget-view+json": {
       "version_major": 2,
       "version_minor": 0,
       "model_id": "c2b30a450fba4cbc82a999517fa0739a"
      }
     },
     "metadata": {}
    },
    {
     "output_type": "display_data",
     "data": {
      "text/plain": "AnatomistInteractiveWidget(height=479, layout=Layout(height='auto', width='auto'), width=424)",
      "application/vnd.jupyter.widget-view+json": {
       "version_major": 2,
       "version_minor": 0,
       "model_id": "42e67299ccc144469d618882dabb7065"
      }
     },
     "metadata": {}
    }
   ],
   "source": [
    "block = a.createWindowsBlock(2)\n",
    "w1 = a.createWindow('Axial', block=block)\n",
    "w2 = a.createWindow('Axial', block=block)\n",
    "img_90 = aims.Volume(arr_90)\n",
    "img_90.header()['voxel_size'] = [1, 1, 1]\n",
    "a_img_90 = a.toAObject(img_90)\n",
    "a_img_90.releaseAppRef()\n",
    "a_img_90.setName(\"toto\")\n",
    "a_img_90.setChanged()\n",
    "a_img_90.notifyObservers()\n",
    "w1.addObjects(mri)\n",
    "w2.addObjects([a_img_90])\n",
    "w1.moveLinkedCursor([35., 35., 35.])"
   ]
  },
  {
   "cell_type": "code",
   "execution_count": 17,
   "id": "c710b205",
   "metadata": {},
   "outputs": [],
   "source": [
    "def rotation_3d(a1, a2, a3):\n",
    "    '''\n",
    "    Return matrix 4x4 of rotation along 3 canonic axis based on 3 angles.\n",
    "\n",
    "    - a1, a2, a3 : rotation angles.\n",
    "    '''\n",
    "    c1, s1 = np.cos(a1), np.sin(a1)\n",
    "    c2, s2 = np.cos(a2), np.sin(a2)\n",
    "    c3, s3 = np.cos(a3), np.sin(a3)\n",
    "    m1 = np.matrix([\n",
    "        [c1, -s1, 0, 0],\n",
    "        [s1, c1,  0, 0],\n",
    "        [0,   0,  1, 0],\n",
    "        [0,   0,  0, 1]])\n",
    "    m2 = np.matrix([\n",
    "        [1,  0,   0, 0],\n",
    "        [0, c2, -s2, 0],\n",
    "        [0, s2,  c2, 0],\n",
    "        [0,  0,   0, 1]])\n",
    "    m3 = np.matrix([\n",
    "        [c3, 0, -s3, 0],\n",
    "        [0,  1,   0, 0],\n",
    "        [s3, 0,  c3, 0],\n",
    "        [0,  0,   0, 1]])\n",
    "    return m1 * m2 * m3"
   ]
  },
  {
   "cell_type": "code",
   "execution_count": 18,
   "id": "ca1e25f4",
   "metadata": {},
   "outputs": [
    {
     "output_type": "stream",
     "name": "stdout",
     "text": [
      "[[ 1.          0.          0.          0.        ]\n [ 0.          0.92387953 -0.38268343  0.        ]\n [ 0.          0.38268343  0.92387953  0.        ]\n [ 0.          0.          0.          1.        ]] \n\n [[ 1.  0.  0. 18.]\n [ 0.  1.  0.  8.]\n [ 0.  0.  1.  4.]\n [ 0.  0.  0.  1.]]\n"
     ]
    }
   ],
   "source": [
    "rotation = rotation_3d(0., np.pi/8, 0.)\n",
    "# rotation = rotation_3d(0, 0, 0)\n",
    "translate = np.array([18., 8., 4., 1.])\n",
    "translation = rotation_3d(0., 0., 0.)\n",
    "translation[:, 3] = np.asmatrix(translate).T\n",
    "\n",
    "print(rotation, \"\\n\\n\", translation)"
   ]
  },
  {
   "cell_type": "code",
   "execution_count": 19,
   "id": "0e5e948b",
   "metadata": {},
   "outputs": [],
   "source": [
    "tr_rot = aims.AffineTransformation3d(rotation)\n",
    "tr_trans = aims.AffineTransformation3d(translation)\n",
    "#tr = aims.AffineTransformation3d(r)\n",
    "#tr.rotationaroundx(math.pi/16)\n",
    "#tr.setTranslation((18, 8, 4))\n",
    "rf = getattr(aims, 'ResamplerFactory_%s' % aims.voxelTypeCode(cropped_skeleton))()\n",
    "resampler = rf.getResampler(0)\n"
   ]
  },
  {
   "cell_type": "code",
   "execution_count": 20,
   "id": "1cc4d218",
   "metadata": {},
   "outputs": [
    {
     "output_type": "stream",
     "name": "stdout",
     "text": [
      "[1, 1, 1, 1]\n"
     ]
    }
   ],
   "source": [
    "print(cropped_skeleton.header()['voxel_size'])"
   ]
  },
  {
   "cell_type": "code",
   "execution_count": 21,
   "id": "370ea7a5",
   "metadata": {},
   "outputs": [
    {
     "output_type": "execute_result",
     "data": {
      "text/plain": [
       "(43, 63, 71, 1)"
      ]
     },
     "metadata": {},
     "execution_count": 21
    }
   ],
   "source": [
    "cropped_skeleton.shape"
   ]
  },
  {
   "cell_type": "code",
   "execution_count": 22,
   "id": "be8fc93e",
   "metadata": {},
   "outputs": [],
   "source": [
    "out_vol = aims.Volume(80, 80, 80, 1, dtype=aims.voxelTypeCode(cropped_skeleton))\n",
    "padded_skeleton = aims.Volume(80, 80, 80, 1, dtype=aims.voxelTypeCode(cropped_skeleton))"
   ]
  },
  {
   "cell_type": "code",
   "execution_count": 23,
   "id": "c7587f11",
   "metadata": {},
   "outputs": [],
   "source": [
    "out_vol.header()['voxel_size'] = [1., 1., 1.]\n",
    "padded_skeleton.header()['voxel_size'] = [1., 1., 1.]"
   ]
  },
  {
   "cell_type": "code",
   "execution_count": 24,
   "id": "243c7604",
   "metadata": {},
   "outputs": [],
   "source": [
    "resampler.resample(cropped_skeleton, tr_trans, 0, padded_skeleton) \n",
    "resampler.resample(padded_skeleton, tr_rot, 0, out_vol) "
   ]
  },
  {
   "cell_type": "code",
   "execution_count": 25,
   "id": "10a0276f",
   "metadata": {},
   "outputs": [
    {
     "output_type": "execute_result",
     "data": {
      "text/plain": [
       "(80, 80, 80, 1)"
      ]
     },
     "metadata": {},
     "execution_count": 25
    }
   ],
   "source": [
    "out_vol.shape"
   ]
  },
  {
   "cell_type": "code",
   "execution_count": 26,
   "id": "ec9e472c",
   "metadata": {},
   "outputs": [
    {
     "output_type": "execute_result",
     "data": {
      "text/plain": [
       "(80, 80, 80, 1)"
      ]
     },
     "metadata": {},
     "execution_count": 26
    }
   ],
   "source": [
    "padded_skeleton.shape"
   ]
  },
  {
   "cell_type": "code",
   "execution_count": 27,
   "id": "5d3b81be",
   "metadata": {},
   "outputs": [
    {
     "output_type": "execute_result",
     "data": {
      "text/plain": [
       "array([ 0, 11, 30, 60, 80], dtype=int16)"
      ]
     },
     "metadata": {},
     "execution_count": 27
    }
   ],
   "source": [
    "out_arr = out_vol.arraydata()\n",
    "np.unique(out_arr)"
   ]
  },
  {
   "cell_type": "code",
   "execution_count": 28,
   "id": "3a82d66b",
   "metadata": {},
   "outputs": [
    {
     "output_type": "display_data",
     "data": {
      "text/plain": "AnatomistInteractiveWidget(height=479, layout=Layout(height='auto', width='auto'), width=424)",
      "application/vnd.jupyter.widget-view+json": {
       "version_major": 2,
       "version_minor": 0,
       "model_id": "c91c4b2dd943413e8fa125116000615e"
      }
     },
     "metadata": {}
    },
    {
     "output_type": "display_data",
     "data": {
      "text/plain": "AnatomistInteractiveWidget(height=479, layout=Layout(height='auto', width='auto'), width=424)",
      "application/vnd.jupyter.widget-view+json": {
       "version_major": 2,
       "version_minor": 0,
       "model_id": "a2e7bb68b54847679227c3bcf466841b"
      }
     },
     "metadata": {}
    }
   ],
   "source": [
    "w1 = a.createWindow('Axial')\n",
    "w2 = a.createWindow('Axial')\n",
    "a_out = a.toAObject(out_vol)\n",
    "a_out.addInWindows(w1)\n",
    "mri.addInWindows(w2)\n",
    "w1.moveLinkedCursor([35., 35., 35.])"
   ]
  },
  {
   "cell_type": "code",
   "execution_count": 30,
   "id": "a21da11b",
   "metadata": {},
   "outputs": [
    {
     "output_type": "execute_result",
     "data": {
      "text/plain": [
       "soma.aims.Volume_S16"
      ]
     },
     "metadata": {},
     "execution_count": 30
    }
   ],
   "source": [
    "type(out_vol)"
   ]
  },
  {
   "cell_type": "code",
   "execution_count": 31,
   "id": "dfcf4d64",
   "metadata": {},
   "outputs": [
    {
     "output_type": "execute_result",
     "data": {
      "text/plain": [
       "{ 'volume_dimension' : [ 43, 63, 71, 1 ], 'sizeX' : 43, 'sizeY' : 63, 'sizeZ' : 71, 'sizeT' : 1, 'disk_data_type' : 'S16', 'bits_allocated' : 16, 'data_type' : 'S16', 'scale_factor_applied' : 0, 'possible_data_types' : [ 'S16', 'FLOAT', 'DOUBLE' ], 'cal_min' : 0, 'cal_max' : 0, 'freq_dim' : 0, 'phase_dim' : 0, 'slice_dim' : 0, 'slice_code' : 0, 'slice_start' : 0, 'slice_end' : 0, 'slice_duration' : 0, 'storage_to_memory' : [ -1, 0, 0, 42, 0, -1, 0, 62, 0, 0, -1, 70, 0, 0, 0, 1 ], 'voxel_size' : [ 1, 1, 1, 1 ], 'tr' : 1, 'referentials' : [ 'Scanner-based anatomical coordinates', 'Coordinates aligned to another file or to anatomical truth', 'Coordinates aligned to another file or to anatomical truth', '9d19068e-55ee-b1da-79c6-d3f232b8f490' ], 'transformations' : [ [ -1, 0, 0, -26.5, 0, -1, 0, -15.5, 0, 0, -1, 44, 0, 0, 0, 1 ], [ -1, 0, 0, -27, 0, -1, 0, -33, 0, 0, -1, 62, 0, 0, 0, 1 ], [ -1, 0, 0, -27, 0, -1, 0, -33, 0, 0, -1, 62, 0, 0, 0, 1 ], [ 0.94504177570343, 0.0105236228555441, 0.00230073370039463, 115.342460632324, -0.0253291167318821, 0.968462944030762, 0.0288661550730467, 121.3857421875, 0.0018131963443011, -0.0127442209050059, 0.867565751075745, 57.0388259887695, 0, 0, 0, 1 ] ], 'toffset' : 0, 'xyz_units' : 0, 'time_units' : 0, 'descrip' : '', 'aux_file' : '', 'nifti_type' : 1, 'object_type' : 'Volume', 'file_type' : 'NIFTI-1' }"
      ]
     },
     "metadata": {},
     "execution_count": 31
    }
   ],
   "source": [
    "cropped_skeleton.header()"
   ]
  },
  {
   "cell_type": "code",
   "execution_count": 32,
   "id": "33c87284",
   "metadata": {},
   "outputs": [
    {
     "output_type": "execute_result",
     "data": {
      "text/plain": [
       "{ 'volume_dimension' : [ 80, 80, 80, 1 ], 'sizeX' : 80, 'sizeY' : 80, 'sizeZ' : 80, 'sizeT' : 1, 'voxel_size' : [ 1, 1, 1 ], 'texture_min' : 0, 'texture_max' : 80, 'boundingbox_min' : [ 0, 0, 0, 0 ], 'boundingbox_max' : [ 80, 80, 80, 1 ] }"
      ]
     },
     "metadata": {},
     "execution_count": 32
    }
   ],
   "source": [
    "out_vol.header()"
   ]
  },
  {
   "cell_type": "code",
   "execution_count": 33,
   "id": "20f9dc58",
   "metadata": {},
   "outputs": [
    {
     "output_type": "execute_result",
     "data": {
      "text/plain": [
       "{ 'volume_dimension' : [ 80, 80, 80, 1 ], 'sizeX' : 80, 'sizeY' : 80, 'sizeZ' : 80, 'sizeT' : 1, 'voxel_size' : [ 1, 1, 1 ] }"
      ]
     },
     "metadata": {},
     "execution_count": 33
    }
   ],
   "source": [
    "padded_skeleton.header()"
   ]
  },
  {
   "cell_type": "code",
   "execution_count": 34,
   "id": "a152d09f",
   "metadata": {},
   "outputs": [],
   "source": [
    "import skimage\n",
    "im = skimage.data.astronaut()"
   ]
  },
  {
   "cell_type": "code",
   "execution_count": 35,
   "id": "a69cc43c",
   "metadata": {},
   "outputs": [
    {
     "output_type": "execute_result",
     "data": {
      "text/plain": [
       "array([  0,   1,   2,   3,   4,   5,   6,   7,   8,   9,  10,  11,  12,\n",
       "        13,  14,  15,  16,  17,  18,  19,  20,  21,  22,  23,  24,  25,\n",
       "        26,  27,  28,  29,  30,  31,  32,  33,  34,  35,  36,  37,  38,\n",
       "        39,  40,  41,  42,  43,  44,  45,  46,  47,  48,  49,  50,  51,\n",
       "        52,  53,  54,  55,  56,  57,  58,  59,  60,  61,  62,  63,  64,\n",
       "        65,  66,  67,  68,  69,  70,  71,  72,  73,  74,  75,  76,  77,\n",
       "        78,  79,  80,  81,  82,  83,  84,  85,  86,  87,  88,  89,  90,\n",
       "        91,  92,  93,  94,  95,  96,  97,  98,  99, 100, 101, 102, 103,\n",
       "       104, 105, 106, 107, 108, 109, 110, 111, 112, 113, 114, 115, 116,\n",
       "       117, 118, 119, 120, 121, 122, 123, 124, 125, 126, 127, 128, 129,\n",
       "       130, 131, 132, 133, 134, 135, 136, 137, 138, 139, 140, 141, 142,\n",
       "       143, 144, 145, 146, 147, 148, 149, 150, 151, 152, 153, 154, 155,\n",
       "       156, 157, 158, 159, 160, 161, 162, 163, 164, 165, 166, 167, 168,\n",
       "       169, 170, 171, 172, 173, 174, 175, 176, 177, 178, 179, 180, 181,\n",
       "       182, 183, 184, 185, 186, 187, 188, 189, 190, 191, 192, 193, 194,\n",
       "       195, 196, 197, 198, 199, 200, 201, 202, 203, 204, 205, 206, 207,\n",
       "       208, 209, 210, 211, 212, 213, 214, 215, 216, 217, 218, 219, 220,\n",
       "       221, 222, 223, 224, 225, 226, 227, 228, 229, 230, 231, 232, 233,\n",
       "       234, 235, 236, 237, 238, 239, 240, 241, 242, 243, 244, 245, 246,\n",
       "       247, 248, 249, 250, 251, 252, 253, 254, 255], dtype=uint8)"
      ]
     },
     "metadata": {},
     "execution_count": 35
    }
   ],
   "source": [
    "np.unique(im)"
   ]
  },
  {
   "cell_type": "code",
   "execution_count": null,
   "id": "5f830844",
   "metadata": {},
   "outputs": [],
   "source": []
  }
 ],
 "metadata": {
  "kernelspec": {
   "display_name": "venv",
   "language": "python",
   "name": "venv"
  },
  "language_info": {
   "codemirror_mode": {
    "name": "ipython",
    "version": 3
   },
   "file_extension": ".py",
   "mimetype": "text/x-python",
   "name": "python",
   "nbconvert_exporter": "python",
   "pygments_lexer": "ipython3",
   "version": "3.6.9"
  }
 },
 "nbformat": 4,
 "nbformat_minor": 5
}